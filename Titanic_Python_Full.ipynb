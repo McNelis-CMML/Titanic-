{
 "cells": [
  {
   "cell_type": "markdown",
   "id": "3ce5ce82",
   "metadata": {},
   "source": [
    "$\\textbf{Logit and Probit Regression}$\n",
    "\n",
    "$\\textit{Logit Models}$\n",
    "\n",
    "Logit analysis assumes the following relation between probability $p_{i\\text{ }}$ of the binary dependent variable $y_{i}$, taking values zero or one, and the set of k explanatory variables $x:\n",
    "\n",
    "Defining the logistic function L as a function of $x_{i}$ and the parameter set $\\beta$, it has the following form:\n",
    "\n",
    "$L_{i}= (x_{i},\\beta) = \\frac{1}{1+e^{-[x_{i}\\beta]}}$\n",
    "\n",
    "\n",
    "\n",
    "\n",
    "\n",
    "This is also called Logistic Regression.  The function is also called a Logsigmoid function.\n",
    "\n",
    "To estimate the parameters $\\beta$, we simply maximize the following  likelihood function\n",
    "$\\Lambda$ with respect to the parameter vector $\\beta\\underset{<\\beta>}$\n",
    "\n",
    "\n",
    "${Max}\\Lambda\t={\\displaystyle \\prod}\\left(L_{i}\\right)^{y_{i}}\\left(1-L_{i}\\right)^{1-y_{i}}\n",
    "\t={\\displaystyle \\prod}%\n",
    "\\left(\\frac{1}{1+e^{-[x_{i}\\beta]}}\\right)^{y_{i}}\\left(\\frac{e^{-[x_{i}\\beta]}}{1+e^{-[x_{i}\\beta]}}\\right)^{1-y_{i}}$\n",
    "\n",
    "where $y_{i\\text{ }}$ represents the observed discrete outcomes.\n",
    "\n",
    "For optimization, it is sometimes easier to optimize the sum of the log probability functions rather than the product of the probability functions :\n",
    "\n",
    "$\\ln(\\Lambda):\\underset{<\\beta>}{Max}\\ln(\\Lambda)=y_{i}\\ln(L_{i})+(1-y_{i})\\ln\\left(1-L_{i}\\right)$\n",
    "\n",
    "The k dimensional coefficient vector $\\beta$ does not represent a set of partial derivatives with respect to characteristics $x_{k}$.  The partial derivative comes from the following expression:\n",
    "\n",
    "$\\frac{\\partial L_{i}}{\\partial x_{i,k}}=\\frac{e^{x_{i}\\beta}}{\\left(1+e^{x_{i}\\beta}\\right)^{2}}\\beta_{k}$\n",
    "\n",
    "Or more simply:\n",
    "\n",
    "$\\frac{\\partial L_{i}}{\\partial x_{i,k}}= L_{i}(1-L_{i})\\beta_{k}$\n",
    "\n",
    "So it is easy to compute the partial derivatives.\n",
    "\n",
    "\n",
    "\n",
    "\n",
    "The partial derivatives are of particular interest if we wish to identify critical ”characteristics” which increase or decrease the likelihood of being in a particular state or category, such as representing a risk of default on a loan,  or surviving the Titanic.  In many cases, a risk-averse decision maker may take a more conservative approach.  For example, if the risk of having serious cancer exceeds .3, the physician may wish to diagnose the patient as being in a ”high risk” sstate, warranting further diagnosis.\n",
    "\n",
    "The usual way to evaluate this logistic model is to examine the percentage of correct predictions, both ”true” and ”false”, set at 1 and 0, on the basis of the expected value.  Setting the estimated $p_{i}$ at 0 or 1 depends of course on the choice of an appropriate \"threshold value\".  If the estimated probability or expected value $p_{i}$.is greater than .5, then $p_{i\\text{ }}$ is rounded to 1, and expected to take place.  Otherwise, it is not expected to occur.\n",
    "\n",
    "$\\textit{Probit Models}$ \n",
    "\n",
    "These models simply uses the cumulative Gaussian or Normal distribution rather than the logistic function for calculating the probability of being in one category or not:\n",
    "\n",
    "\n",
    "$p_{i}\t=\\mathbf{\\Phi}(x_{i}\\beta+\\beta_{0})\n",
    "\t=\\int_{-\\infty}^{x_{i}\\beta+\\beta_{0}}\\mathbf{\\phi}(t)dt$\n",
    "    \n",
    "where the symbol $\\mathbf{\\Phi}$ is simply the cumulative standard distribution, while the lower case symbol, $\\phi$, as before, represents the standard normal density function.   We maximize the same log-likelihood function.  \n",
    "\n",
    "The partial derivatives, however, come from the following expression:\n",
    "\n",
    "$\\frac{\\partial p_{i}}{\\partial x_{i,k}}=\\mathbf{\\phi}(x_{i}\\beta+\\beta_{0})\\beta_{k}$\n",
    "\n",
    "\n",
    "\n",
    "\n",
    "From the decisions of this analysis, one can construct a Confusion Matrix, based on the proportion of true and false positives, as shown in the $\\textit{Confusion Matrix}$:\n",
    "$$\n",
    "\\begin{aligned}\n",
    "     \\begin{array}{ccc}\n",
    "    \\hline \\hline \\textbf{Decision/State of the World} & \\textbf{TRUE} & \\textbf{FALSE}\\\\\n",
    "    \\hline \\textit{Accept} & \\text{Correct} &\\text{False Positive, Type II Error}-\\beta \\\\\n",
    "    \\hline \\textit{Reject} & \\text{False Negative, Type I Error}-\\alpha & \\text{Correct} \\\\\n",
    "    \\hline\n",
    "\\end{array}\n",
    "\\end{aligned}\n",
    "$$\n",
    "    \n",
    "  \n",
    "          \n",
    "\n",
    "\n",
    "\n",
    "\n",
    "\n",
    "\n",
    "\n",
    "\n",
    "Of course, the percentage of correct and incorrect decisions will change with the threshold values for classification. We can generate multiple Confusion Matrices for various thresholds for classification. But a more effective way is to examine the Receiver Operator Characteristic Curve (ROC), which plots the True Positive Rates against the False Positive Rates for alternative threshold values. The Area Under the Curve (AUC) is a measure of the ability of the classifier to distinguish between the classes. The greater the area under the curve, of course, the better the performance of the classifier. \n",
    "\n",
    "One of the advances of MLMs is to make use of Random Forests for classification. We will compare the out-of-sample performance of these methods with the classical methods in later chapters."
   ]
  },
  {
   "cell_type": "markdown",
   "id": "60a94de1",
   "metadata": {},
   "source": [
    "# Titanic: Survival Probabilities"
   ]
  },
  {
   "cell_type": "code",
   "execution_count": 4,
   "id": "7a79c98c",
   "metadata": {},
   "outputs": [],
   "source": [
    "import pandas as pd\n",
    "import numpy as np\n",
    "from matplotlib import pyplot as plt"
   ]
  },
  {
   "cell_type": "code",
   "execution_count": 5,
   "id": "d9735135",
   "metadata": {},
   "outputs": [
    {
     "data": {
      "text/html": [
       "<div>\n",
       "<style scoped>\n",
       "    .dataframe tbody tr th:only-of-type {\n",
       "        vertical-align: middle;\n",
       "    }\n",
       "\n",
       "    .dataframe tbody tr th {\n",
       "        vertical-align: top;\n",
       "    }\n",
       "\n",
       "    .dataframe thead th {\n",
       "        text-align: right;\n",
       "    }\n",
       "</style>\n",
       "<table border=\"1\" class=\"dataframe\">\n",
       "  <thead>\n",
       "    <tr style=\"text-align: right;\">\n",
       "      <th></th>\n",
       "      <th>pclass</th>\n",
       "      <th>sex</th>\n",
       "      <th>age</th>\n",
       "      <th>sibsp</th>\n",
       "      <th>parch</th>\n",
       "      <th>fare</th>\n",
       "      <th>survived</th>\n",
       "    </tr>\n",
       "  </thead>\n",
       "  <tbody>\n",
       "    <tr>\n",
       "      <th>0</th>\n",
       "      <td>1</td>\n",
       "      <td>female</td>\n",
       "      <td>29</td>\n",
       "      <td>0</td>\n",
       "      <td>0</td>\n",
       "      <td>211.3375</td>\n",
       "      <td>1</td>\n",
       "    </tr>\n",
       "    <tr>\n",
       "      <th>1</th>\n",
       "      <td>1</td>\n",
       "      <td>male</td>\n",
       "      <td>0.9167</td>\n",
       "      <td>1</td>\n",
       "      <td>2</td>\n",
       "      <td>151.55</td>\n",
       "      <td>1</td>\n",
       "    </tr>\n",
       "    <tr>\n",
       "      <th>2</th>\n",
       "      <td>1</td>\n",
       "      <td>female</td>\n",
       "      <td>2</td>\n",
       "      <td>1</td>\n",
       "      <td>2</td>\n",
       "      <td>151.55</td>\n",
       "      <td>0</td>\n",
       "    </tr>\n",
       "    <tr>\n",
       "      <th>3</th>\n",
       "      <td>1</td>\n",
       "      <td>male</td>\n",
       "      <td>30</td>\n",
       "      <td>1</td>\n",
       "      <td>2</td>\n",
       "      <td>151.55</td>\n",
       "      <td>0</td>\n",
       "    </tr>\n",
       "    <tr>\n",
       "      <th>4</th>\n",
       "      <td>1</td>\n",
       "      <td>female</td>\n",
       "      <td>25</td>\n",
       "      <td>1</td>\n",
       "      <td>2</td>\n",
       "      <td>151.55</td>\n",
       "      <td>0</td>\n",
       "    </tr>\n",
       "  </tbody>\n",
       "</table>\n",
       "</div>"
      ],
      "text/plain": [
       "   pclass     sex     age  sibsp  parch      fare  survived\n",
       "0       1  female      29      0      0  211.3375         1\n",
       "1       1    male  0.9167      1      2    151.55         1\n",
       "2       1  female       2      1      2    151.55         0\n",
       "3       1    male      30      1      2    151.55         0\n",
       "4       1  female      25      1      2    151.55         0"
      ]
     },
     "execution_count": 5,
     "metadata": {},
     "output_type": "execute_result"
    }
   ],
   "source": [
    "df = pd.read_excel('Titanic_FullData1.xlsx', usecols=['pclass',    'sex',    'age',    'sibsp',    'parch',    'fare' ,   'survived'])\n",
    "df.head()"
   ]
  },
  {
   "cell_type": "code",
   "execution_count": 6,
   "id": "cef81a14",
   "metadata": {},
   "outputs": [
    {
     "data": {
      "text/plain": [
       "0    843\n",
       "1    466\n",
       "Name: sex, dtype: int64"
      ]
     },
     "execution_count": 6,
     "metadata": {},
     "output_type": "execute_result"
    }
   ],
   "source": [
    "df['sex']=df['sex'].replace({'male':0,'female':1})\n",
    "df.sex.value_counts()\n"
   ]
  },
  {
   "cell_type": "markdown",
   "id": "fb3ae5d3",
   "metadata": {},
   "source": [
    "$\\textit{Remove missing entries}$"
   ]
  },
  {
   "cell_type": "code",
   "execution_count": 7,
   "id": "112bc579",
   "metadata": {},
   "outputs": [
    {
     "name": "stdout",
     "output_type": "stream",
     "text": [
      "(1309, 7)\n",
      "(1045, 7)\n"
     ]
    }
   ],
   "source": [
    "print(df.shape)\n",
    "df = df.replace({'?':np.nan})\n",
    "df = df.dropna()\n",
    "print(df.shape)"
   ]
  },
  {
   "cell_type": "code",
   "execution_count": 8,
   "id": "1c9fbd0c",
   "metadata": {},
   "outputs": [],
   "source": [
    "X = df.iloc[:,:-1]\n",
    "y = df.iloc[:,-1]\n",
    "features = X.columns.tolist()\n",
    "\n",
    "X = np.array(X)\n",
    "y = np.array(y)\n",
    "X[:,0]= -X[:,0]\n",
    "\n",
    "\n"
   ]
  },
  {
   "cell_type": "markdown",
   "id": "03f40e7f",
   "metadata": {},
   "source": [
    "$\\textit{Features}$\n",
    "\n",
    "We take the negative for class, so that first class (1) is $\\textit{higher}$ than the second and third classes of service\n"
   ]
  },
  {
   "cell_type": "code",
   "execution_count": 12,
   "id": "54b8dcb7",
   "metadata": {},
   "outputs": [
    {
     "name": "stdout",
     "output_type": "stream",
     "text": [
      "['pclass', 'sex', 'age', 'sibsp', 'parch', 'fare']\n"
     ]
    }
   ],
   "source": [
    "print(features)\n"
   ]
  },
  {
   "cell_type": "code",
   "execution_count": 13,
   "id": "2920893e",
   "metadata": {},
   "outputs": [],
   "source": [
    "from statsmodels.discrete.discrete_model import Probit\n",
    "from statsmodels.discrete.discrete_model import Logit"
   ]
  },
  {
   "cell_type": "code",
   "execution_count": 14,
   "id": "0d2e72bf",
   "metadata": {},
   "outputs": [
    {
     "name": "stdout",
     "output_type": "stream",
     "text": [
      "Optimization terminated successfully.\n",
      "         Current function value: 0.476574\n",
      "         Iterations 6\n",
      "                          Probit Regression Results                           \n",
      "==============================================================================\n",
      "Dep. Variable:                      y   No. Observations:                 1045\n",
      "Model:                         Probit   Df Residuals:                     1039\n",
      "Method:                           MLE   Df Model:                            5\n",
      "Date:                Fri, 18 Mar 2022   Pseudo R-squ.:                  0.2954\n",
      "Time:                        12:34:00   Log-Likelihood:                -498.02\n",
      "converged:                       True   LL-Null:                       -706.79\n",
      "Covariance Type:            nonrobust   LLR p-value:                 4.935e-88\n",
      "==============================================================================\n",
      "                 coef    std err          z      P>|z|      [0.025      0.975]\n",
      "------------------------------------------------------------------------------\n",
      "x1             0.2988      0.035      8.520      0.000       0.230       0.368\n",
      "x2             1.5488      0.096     16.207      0.000       1.361       1.736\n",
      "x3            -0.0093      0.003     -3.579      0.000      -0.014      -0.004\n",
      "x4            -0.1704      0.059     -2.879      0.004      -0.286      -0.054\n",
      "x5             0.0081      0.059      0.136      0.892      -0.108       0.124\n",
      "x6             0.0040      0.001      3.536      0.000       0.002       0.006\n",
      "==============================================================================\n",
      "Optimization terminated successfully.\n",
      "         Current function value: 0.477077\n",
      "         Iterations 6\n",
      "                           Logit Regression Results                           \n",
      "==============================================================================\n",
      "Dep. Variable:                      y   No. Observations:                 1045\n",
      "Model:                          Logit   Df Residuals:                     1039\n",
      "Method:                           MLE   Df Model:                            5\n",
      "Date:                Fri, 18 Mar 2022   Pseudo R-squ.:                  0.2946\n",
      "Time:                        12:34:00   Log-Likelihood:                -498.55\n",
      "converged:                       True   LL-Null:                       -706.79\n",
      "Covariance Type:            nonrobust   LLR p-value:                 8.319e-88\n",
      "==============================================================================\n",
      "                 coef    std err          z      P>|z|      [0.025      0.975]\n",
      "------------------------------------------------------------------------------\n",
      "x1             0.5149      0.063      8.132      0.000       0.391       0.639\n",
      "x2             2.5655      0.166     15.425      0.000       2.240       2.891\n",
      "x3            -0.0149      0.004     -3.322      0.001      -0.024      -0.006\n",
      "x4            -0.2866      0.103     -2.781      0.005      -0.489      -0.085\n",
      "x5             0.0149      0.102      0.146      0.884      -0.184       0.214\n",
      "x6             0.0067      0.002      3.406      0.001       0.003       0.011\n",
      "==============================================================================\n"
     ]
    }
   ],
   "source": [
    "model = Probit(y, X)\n",
    "probit_model = model.fit()\n",
    "print(probit_model.summary())\n",
    "model1 = Logit(y, X)\n",
    "logit_model = model1.fit()\n",
    "print(logit_model.summary())\n"
   ]
  },
  {
   "cell_type": "code",
   "execution_count": 15,
   "id": "3120583c",
   "metadata": {},
   "outputs": [
    {
     "name": "stdout",
     "output_type": "stream",
     "text": [
      "       Probit Marginal Effects       \n",
      "=====================================\n",
      "Dep. Variable:                      y\n",
      "Method:                          dydx\n",
      "At:                           overall\n",
      "==============================================================================\n",
      "                dy/dx    std err          z      P>|z|      [0.025      0.975]\n",
      "------------------------------------------------------------------------------\n",
      "x1             0.0795      0.009      9.335      0.000       0.063       0.096\n",
      "x2             0.4122      0.014     29.001      0.000       0.384       0.440\n",
      "x3            -0.0025      0.001     -3.645      0.000      -0.004      -0.001\n",
      "x4            -0.0454      0.016     -2.906      0.004      -0.076      -0.015\n",
      "x5             0.0022      0.016      0.136      0.892      -0.029       0.033\n",
      "x6             0.0011      0.000      3.585      0.000       0.000       0.002\n",
      "==============================================================================\n"
     ]
    }
   ],
   "source": [
    "mfx = probit_model.get_margeff()\n",
    "print(mfx.summary())\n"
   ]
  },
  {
   "cell_type": "code",
   "execution_count": 16,
   "id": "0102e131",
   "metadata": {},
   "outputs": [],
   "source": [
    "from sklearn.linear_model import LogisticRegression\n",
    "from sklearn.metrics import classification_report, confusion_matrix"
   ]
  },
  {
   "cell_type": "code",
   "execution_count": 17,
   "id": "ef7caa15",
   "metadata": {},
   "outputs": [],
   "source": [
    "model = LogisticRegression(solver='liblinear', random_state=0)"
   ]
  },
  {
   "cell_type": "code",
   "execution_count": 18,
   "id": "6bd50c0f",
   "metadata": {},
   "outputs": [
    {
     "data": {
      "text/plain": [
       "LogisticRegression(random_state=0, solver='liblinear')"
      ]
     },
     "execution_count": 18,
     "metadata": {},
     "output_type": "execute_result"
    }
   ],
   "source": [
    "model.fit(X, y)\n"
   ]
  },
  {
   "cell_type": "code",
   "execution_count": 19,
   "id": "d9195e56",
   "metadata": {},
   "outputs": [
    {
     "data": {
      "text/plain": [
       "[[0.7002341920374707, 0.15372168284789645],\n",
       " [0.2997658079625293, 0.8462783171521036]]"
      ]
     },
     "execution_count": 19,
     "metadata": {},
     "output_type": "execute_result"
    }
   ],
   "source": [
    "CM = confusion_matrix(y, model.predict(X))\n",
    "tp = CM[1,1]\n",
    "fn = CM[1,0]\n",
    "tn = CM[0,0]\n",
    "fp = CM[0,1]\n",
    "CM1 = [[tp/(tp+fn), fp/(tn+fp) ],\n",
    "      [fn/(tp+fn), tn/(tn+fp) ]]\n",
    "\n",
    "Survival = np.sum(y)/len(y)\n",
    "Survival\n",
    "CM1\n"
   ]
  },
  {
   "cell_type": "code",
   "execution_count": 20,
   "id": "a0919e32",
   "metadata": {},
   "outputs": [
    {
     "name": "stdout",
     "output_type": "stream",
     "text": [
      "Optimization terminated successfully.\n",
      "         Current function value: 0.477077\n",
      "         Iterations 6\n"
     ]
    },
    {
     "data": {
      "text/html": [
       "<table class=\"simpletable\">\n",
       "<caption>Logit Regression Results</caption>\n",
       "<tr>\n",
       "  <th>Dep. Variable:</th>           <td>y</td>        <th>  No. Observations:  </th>  <td>  1045</td>  \n",
       "</tr>\n",
       "<tr>\n",
       "  <th>Model:</th>                 <td>Logit</td>      <th>  Df Residuals:      </th>  <td>  1039</td>  \n",
       "</tr>\n",
       "<tr>\n",
       "  <th>Method:</th>                 <td>MLE</td>       <th>  Df Model:          </th>  <td>     5</td>  \n",
       "</tr>\n",
       "<tr>\n",
       "  <th>Date:</th>            <td>Fri, 18 Mar 2022</td> <th>  Pseudo R-squ.:     </th>  <td>0.2946</td>  \n",
       "</tr>\n",
       "<tr>\n",
       "  <th>Time:</th>                <td>12:34:09</td>     <th>  Log-Likelihood:    </th> <td> -498.55</td> \n",
       "</tr>\n",
       "<tr>\n",
       "  <th>converged:</th>             <td>True</td>       <th>  LL-Null:           </th> <td> -706.79</td> \n",
       "</tr>\n",
       "<tr>\n",
       "  <th>Covariance Type:</th>     <td>nonrobust</td>    <th>  LLR p-value:       </th> <td>8.319e-88</td>\n",
       "</tr>\n",
       "</table>\n",
       "<table class=\"simpletable\">\n",
       "<tr>\n",
       "   <td></td>     <th>coef</th>     <th>std err</th>      <th>z</th>      <th>P>|z|</th>  <th>[0.025</th>    <th>0.975]</th>  \n",
       "</tr>\n",
       "<tr>\n",
       "  <th>x1</th> <td>    0.5149</td> <td>    0.063</td> <td>    8.132</td> <td> 0.000</td> <td>    0.391</td> <td>    0.639</td>\n",
       "</tr>\n",
       "<tr>\n",
       "  <th>x2</th> <td>    2.5655</td> <td>    0.166</td> <td>   15.425</td> <td> 0.000</td> <td>    2.240</td> <td>    2.891</td>\n",
       "</tr>\n",
       "<tr>\n",
       "  <th>x3</th> <td>   -0.0149</td> <td>    0.004</td> <td>   -3.322</td> <td> 0.001</td> <td>   -0.024</td> <td>   -0.006</td>\n",
       "</tr>\n",
       "<tr>\n",
       "  <th>x4</th> <td>   -0.2866</td> <td>    0.103</td> <td>   -2.781</td> <td> 0.005</td> <td>   -0.489</td> <td>   -0.085</td>\n",
       "</tr>\n",
       "<tr>\n",
       "  <th>x5</th> <td>    0.0149</td> <td>    0.102</td> <td>    0.146</td> <td> 0.884</td> <td>   -0.184</td> <td>    0.214</td>\n",
       "</tr>\n",
       "<tr>\n",
       "  <th>x6</th> <td>    0.0067</td> <td>    0.002</td> <td>    3.406</td> <td> 0.001</td> <td>    0.003</td> <td>    0.011</td>\n",
       "</tr>\n",
       "</table>"
      ],
      "text/plain": [
       "<class 'statsmodels.iolib.summary.Summary'>\n",
       "\"\"\"\n",
       "                           Logit Regression Results                           \n",
       "==============================================================================\n",
       "Dep. Variable:                      y   No. Observations:                 1045\n",
       "Model:                          Logit   Df Residuals:                     1039\n",
       "Method:                           MLE   Df Model:                            5\n",
       "Date:                Fri, 18 Mar 2022   Pseudo R-squ.:                  0.2946\n",
       "Time:                        12:34:09   Log-Likelihood:                -498.55\n",
       "converged:                       True   LL-Null:                       -706.79\n",
       "Covariance Type:            nonrobust   LLR p-value:                 8.319e-88\n",
       "==============================================================================\n",
       "                 coef    std err          z      P>|z|      [0.025      0.975]\n",
       "------------------------------------------------------------------------------\n",
       "x1             0.5149      0.063      8.132      0.000       0.391       0.639\n",
       "x2             2.5655      0.166     15.425      0.000       2.240       2.891\n",
       "x3            -0.0149      0.004     -3.322      0.001      -0.024      -0.006\n",
       "x4            -0.2866      0.103     -2.781      0.005      -0.489      -0.085\n",
       "x5             0.0149      0.102      0.146      0.884      -0.184       0.214\n",
       "x6             0.0067      0.002      3.406      0.001       0.003       0.011\n",
       "==============================================================================\n",
       "\"\"\""
      ]
     },
     "execution_count": 20,
     "metadata": {},
     "output_type": "execute_result"
    }
   ],
   "source": [
    "import statsmodels.api as sm\n",
    "model1 = sm.Logit(y, X)\n",
    "result = model1.fit(method='newton')\n",
    "result.summary()"
   ]
  },
  {
   "cell_type": "markdown",
   "id": "14bf2b0b",
   "metadata": {},
   "source": [
    "$\\textbf{Decision Trees and Random Forests}$"
   ]
  },
  {
   "cell_type": "code",
   "execution_count": 21,
   "id": "e45f0842",
   "metadata": {},
   "outputs": [
    {
     "data": {
      "text/plain": [
       "{'ccp_alpha': 0.0,\n",
       " 'class_weight': None,\n",
       " 'criterion': 'gini',\n",
       " 'max_depth': 5,\n",
       " 'max_features': None,\n",
       " 'max_leaf_nodes': None,\n",
       " 'min_impurity_decrease': 0.0,\n",
       " 'min_impurity_split': None,\n",
       " 'min_samples_leaf': 1,\n",
       " 'min_samples_split': 2,\n",
       " 'min_weight_fraction_leaf': 0.0,\n",
       " 'random_state': None,\n",
       " 'splitter': 'best'}"
      ]
     },
     "execution_count": 21,
     "metadata": {},
     "output_type": "execute_result"
    },
    {
     "data": {
      "image/png": "[encoded data removed]",
      "text/plain": [
       "<Figure size 432x288 with 1 Axes>"
      ]
     },
     "metadata": {
      "needs_background": "light"
     },
     "output_type": "display_data"
    }
   ],
   "source": [
    "from sklearn import tree\n",
    "from sklearn.metrics import confusion_matrix\n",
    "from sklearn.model_selection import GridSearchCV\n",
    "parameters = {'max_depth':range(3,20)}\n",
    "Mdls = GridSearchCV(tree.DecisionTreeClassifier(),parameters, n_jobs=4)\n",
    "Mdls = Mdls.fit(X, y)\n",
    "Mdl = Mdls.best_estimator_\n",
    "imp = Mdl.feature_importances_\n",
    "\n",
    "\n",
    "I = np.arange(imp.shape[0])\n",
    "plt.bar(I,imp)\n",
    "plt.xticks(I,features);\n",
    "best_param = Mdl.get_params()\n",
    "best_param"
   ]
  },
  {
   "cell_type": "markdown",
   "id": "bdd803f3",
   "metadata": {},
   "source": [
    "- We see that gender and class of service were most important.\n",
    "***\n",
    "- Now we evaluate the predictive accuracy of the random forests.\n"
   ]
  },
  {
   "cell_type": "code",
   "execution_count": 22,
   "id": "4e38b11f",
   "metadata": {},
   "outputs": [
    {
     "data": {
      "text/plain": [
       "0.8344497607655502"
      ]
     },
     "execution_count": 22,
     "metadata": {},
     "output_type": "execute_result"
    }
   ],
   "source": [
    "\n",
    "pred = Mdl.predict(X)\n",
    "accuracy = np.mean(pred==y)\n",
    "accuracy"
   ]
  },
  {
   "cell_type": "markdown",
   "id": "c38381dc",
   "metadata": {},
   "source": [
    "Lets look at the Confusion Matrix:  the matrix of true and false decisions We see that it is quite accurate for the full sample."
   ]
  },
  {
   "cell_type": "code",
   "execution_count": 23,
   "id": "3a8f3db4",
   "metadata": {},
   "outputs": [
    {
     "data": {
      "text/plain": [
       "[[0.9150326797385621, 0.19891745602165087],\n",
       " [0.08496732026143791, 0.8010825439783491]]"
      ]
     },
     "execution_count": 23,
     "metadata": {},
     "output_type": "execute_result"
    }
   ],
   "source": [
    "tn, fp, fn, tp = np.ravel(confusion_matrix(pred,y))\n",
    "CM = [[tp/(tp+fn), fp/(tn+fp) ],\n",
    "      [fn/(tp+fn), tn/(tn+fp) ]]\n",
    "CM"
   ]
  },
  {
   "cell_type": "code",
   "execution_count": 24,
   "id": "95b48989",
   "metadata": {},
   "outputs": [
    {
     "data": {
      "text/plain": [
       "array([[0.80108254, 0.19891746],\n",
       "       [0.08496732, 0.91503268]])"
      ]
     },
     "execution_count": 24,
     "metadata": {},
     "output_type": "execute_result"
    }
   ],
   "source": [
    "confusion_matrix(pred,y, normalize='true')"
   ]
  },
  {
   "cell_type": "markdown",
   "id": "8068f41f",
   "metadata": {},
   "source": [
    "Lets do a repeat set of draws for in an out of sample tests."
   ]
  },
  {
   "cell_type": "code",
   "execution_count": 25,
   "id": "647c94c9",
   "metadata": {},
   "outputs": [],
   "source": [
    "from sklearn.model_selection import train_test_split\n",
    "from sklearn.metrics import accuracy_score \n",
    "\n",
    "nexp=500\n",
    "test_size = 1- 500/y.shape[0]\n",
    "\n",
    "false_positives = []\n",
    "false_negatives = []\n",
    "accuracies = []\n",
    "clf = tree.DecisionTreeClassifier(**best_param,  )\n",
    "for experiment in (range(nexp)):\n",
    "    X_train, X_test, y_train, y_test = train_test_split(\n",
    "        X, y, test_size=test_size)\n",
    "    clf.fit(X_train, y_train)\n",
    "    pred = clf.predict(X_test)\n",
    "    CM = confusion_matrix(y_test, pred, normalize='true')\n",
    "    \n",
    "    false_positives.append(CM[0,1])# it was actually negative class (0-th row in the CM), and falsely predicted positve(1-th column)\n",
    "    false_negatives.append(CM[1,0])\n",
    "    accuracies.append(accuracy_score(y_test, pred))\n",
    "    "
   ]
  },
  {
   "cell_type": "code",
   "execution_count": 26,
   "id": "31b04f4b",
   "metadata": {},
   "outputs": [
    {
     "data": {
      "image/png": "[encoded data removed]",
      "text/plain": [
       "<Figure size 720x648 with 2 Axes>"
      ]
     },
     "metadata": {
      "needs_background": "light"
     },
     "output_type": "display_data"
    }
   ],
   "source": [
    "fig, axs = plt.subplots(2, figsize=(10, 9))\n",
    "fig.suptitle('Vertically stacked subplots')\n",
    "axs[0].hist(false_positives)\n",
    "axs[0].set_title('Out-of-Sample False positives')\n",
    "axs[0].grid(True)\n",
    "\n",
    "axs[1].hist(false_negatives)\n",
    "axs[1].set_title('Out-of-Sample False negatives')\n",
    "axs[1].grid(True)"
   ]
  },
  {
   "cell_type": "code",
   "execution_count": 27,
   "id": "7f3ed994",
   "metadata": {},
   "outputs": [
    {
     "data": {
      "text/plain": [
       "(array([  3.,   6.,  16.,  43., 102., 122., 125.,  60.,  18.,   5.]),\n",
       " array([0.7266055 , 0.73761468, 0.74862385, 0.75963303, 0.7706422 ,\n",
       "        0.78165138, 0.79266055, 0.80366972, 0.8146789 , 0.82568807,\n",
       "        0.83669725]),\n",
       " <BarContainer object of 10 artists>)"
      ]
     },
     "execution_count": 27,
     "metadata": {},
     "output_type": "execute_result"
    },
    {
     "data": {
      "image/png": "[encoded data removed]",
      "text/plain": [
       "<Figure size 432x288 with 1 Axes>"
      ]
     },
     "metadata": {
      "needs_background": "light"
     },
     "output_type": "display_data"
    }
   ],
   "source": [
    "plt.hist(accuracies)"
   ]
  },
  {
   "cell_type": "markdown",
   "id": "ca02d825",
   "metadata": {},
   "source": [
    "We see the out of sample predictive accuracy stats, very different."
   ]
  },
  {
   "cell_type": "markdown",
   "id": "255f3169",
   "metadata": {},
   "source": [
    "$\\textbf{Neural Network Classification}$\n",
    "\n",
    "Now lets look at the same data with neural net prediction.\n",
    "We load in the data and then set up a patternnet neural neet with 31 neurons.\n",
    "We put in options not to show the intermediate training data in windows."
   ]
  },
  {
   "cell_type": "code",
   "execution_count": 43,
   "id": "74c9ae25",
   "metadata": {},
   "outputs": [],
   "source": [
    "import sklearn \n",
    "X = sklearn.preprocessing.minmax_scale(X, feature_range=(0, 1), axis=0, copy=True)"
   ]
  },
  {
   "cell_type": "code",
   "execution_count": 44,
   "id": "8c6f35db",
   "metadata": {},
   "outputs": [
    {
     "data": {
      "text/plain": [
       "0.8114832535885167"
      ]
     },
     "execution_count": 44,
     "metadata": {},
     "output_type": "execute_result"
    }
   ],
   "source": [
    "from sklearn.neural_network import MLPClassifier\n",
    "clf = MLPClassifier(random_state=1, hidden_layer_sizes=(7), max_iter=1000).fit(X, y)\n",
    "clf.fit(X,y)\n",
    "\n",
    "pred = clf.predict(X) # note, 1 is positive class\n",
    "accuracy = accuracy_score(y,pred)\n",
    "\n",
    "CM = confusion_matrix(y, pred, normalize='true')\n",
    "true_positive = CM[1,1]\n",
    "true_negative = CM[0,0]\n",
    "false_positive = CM[0,1]\n",
    "false_negative = CM[1,0]\n",
    "\n",
    "accuracy"
   ]
  },
  {
   "cell_type": "markdown",
   "id": "1331b067",
   "metadata": {},
   "source": [
    "We have  an 80 percent accuracy rate, not bad."
   ]
  },
  {
   "cell_type": "markdown",
   "id": "d5aead3c",
   "metadata": {},
   "source": [
    "Lets simulate the model around the median to get the relative importance."
   ]
  },
  {
   "cell_type": "code",
   "execution_count": 45,
   "id": "00e75ef5",
   "metadata": {},
   "outputs": [
    {
     "data": {
      "text/plain": [
       "(1, 2)"
      ]
     },
     "execution_count": 45,
     "metadata": {},
     "output_type": "execute_result"
    }
   ],
   "source": [
    "X_median = np.median(X, axis=0).reshape((1,-1)) # (1,D)\n",
    "proba_median = clf.predict_proba(X_median)\n",
    "proba_median.shape"
   ]
  },
  {
   "cell_type": "code",
   "execution_count": 46,
   "id": "b8d48357",
   "metadata": {},
   "outputs": [
    {
     "data": {
      "text/plain": [
       "array([[0.74462003, 0.25537997]])"
      ]
     },
     "execution_count": 46,
     "metadata": {},
     "output_type": "execute_result"
    }
   ],
   "source": [
    "proba_median"
   ]
  },
  {
   "cell_type": "code",
   "execution_count": 47,
   "id": "b7f3a468",
   "metadata": {},
   "outputs": [
    {
     "data": {
      "image/png": "[encoded data removed]",
      "text/plain": [
       "<Figure size 720x360 with 1 Axes>"
      ]
     },
     "metadata": {
      "needs_background": "light"
     },
     "output_type": "display_data"
    }
   ],
   "source": [
    "D = X.shape[1]\n",
    "importance = []\n",
    "for i in range(D):\n",
    "    #print(x_median_i_perturbed)\n",
    "    x_median_i_perturbed = X_median.copy()\n",
    "    x_median_i_perturbed[0,i]+=0.00001\n",
    "    \n",
    "    proba_median_perturbed = clf.predict_proba(x_median_i_perturbed)\n",
    "    imp = abs(proba_median_perturbed[:,1] - proba_median[:,1])/0.00001 \n",
    "    importance.append(imp)\n",
    "importance = np.array(importance).reshape(-1)\n",
    "    \n",
    "feature_indices = np.arange(len(importance))\n",
    "\n",
    "plt.figure(figsize=(10, 5))\n",
    "plt.bar(feature_indices,importance)\n",
    "plt.xticks(feature_indices, df.columns[:-1], rotation='vertical')\n",
    "plt.ylabel('Feature Importance')\n",
    "plt.grid(True)"
   ]
  },
  {
   "cell_type": "markdown",
   "id": "387317e6",
   "metadata": {},
   "source": [
    "We see gender and class are important"
   ]
  },
  {
   "cell_type": "markdown",
   "id": "b666c773",
   "metadata": {},
   "source": [
    "\n",
    "Now let's look at out of sample performance of the network."
   ]
  },
  {
   "cell_type": "code",
   "execution_count": 48,
   "id": "43c5d4ae",
   "metadata": {},
   "outputs": [],
   "source": [
    "K = 500\n",
    "test_size = 1-K/y.shape[0]\n",
    "\n",
    "false_positives = []\n",
    "false_negatives = []\n",
    "accuracies = []\n",
    "\n",
    "for j in range(100):\n",
    "    \n",
    "    X_train, X_test, y_train, y_test = train_test_split(\n",
    "        X, y, test_size=test_size)\n",
    "    clf = MLPClassifier(random_state=1, hidden_layer_sizes=(7), max_iter=1000).fit(X, y)\n",
    "    clf.fit(X_train, y_train)\n",
    "    pred = clf.predict(X_test)\n",
    "    CM = confusion_matrix(y_test, pred, normalize='true')\n",
    "    \n",
    "    false_positives.append(CM[0,1])# it was actually negative class (0-th row in the CM), and falsely predicted positve(1-th column)\n",
    "    false_negatives.append(CM[1,0])\n",
    "    accuracies.append(accuracy_score(y_test, pred))\n",
    "    \n",
    "    "
   ]
  },
  {
   "cell_type": "code",
   "execution_count": 49,
   "id": "590b7766",
   "metadata": {},
   "outputs": [
    {
     "data": {
      "image/png": "[encoded data removed]",
      "text/plain": [
       "<Figure size 720x648 with 2 Axes>"
      ]
     },
     "metadata": {
      "needs_background": "light"
     },
     "output_type": "display_data"
    }
   ],
   "source": [
    "fig, axs = plt.subplots(2, figsize=(10, 9))\n",
    "fig.suptitle('Vertically stacked subplots')\n",
    "axs[0].hist(false_positives)\n",
    "axs[0].set_title('Out-of-Sample False positives')\n",
    "axs[0].grid(True)\n",
    "\n",
    "axs[1].hist(false_negatives)\n",
    "axs[1].set_title('Out-of-Sample False negatives')\n",
    "axs[1].grid(True)"
   ]
  },
  {
   "cell_type": "code",
   "execution_count": 50,
   "id": "9a9bf316",
   "metadata": {},
   "outputs": [
    {
     "data": {
      "text/plain": [
       "(array([ 1.,  1.,  3., 12., 19., 13., 30., 13.,  6.,  2.]),\n",
       " array([0.74311927, 0.75155963, 0.76      , 0.76844037, 0.77688073,\n",
       "        0.7853211 , 0.79376147, 0.80220183, 0.8106422 , 0.81908257,\n",
       "        0.82752294]),\n",
       " <BarContainer object of 10 artists>)"
      ]
     },
     "execution_count": 50,
     "metadata": {},
     "output_type": "execute_result"
    },
    {
     "data": {
      "image/png": "[encoded data removed]",
      "text/plain": [
       "<Figure size 432x288 with 1 Axes>"
      ]
     },
     "metadata": {
      "needs_background": "light"
     },
     "output_type": "display_data"
    }
   ],
   "source": [
    "plt.hist(accuracies)"
   ]
  },
  {
   "cell_type": "code",
   "execution_count": null,
   "id": "a6339af0",
   "metadata": {},
   "outputs": [],
   "source": []
  },
  {
   "cell_type": "code",
   "execution_count": null,
   "id": "382026a2",
   "metadata": {},
   "outputs": [],
   "source": []
  }
 ],
 "metadata": {
  "kernelspec": {
   "display_name": "Python 3 (ipykernel)",
   "language": "python",
   "name": "python3"
  },
  "language_info": {
   "codemirror_mode": {
    "name": "ipython",
    "version": 3
   },
   "file_extension": ".py",
   "mimetype": "text/x-python",
   "name": "python",
   "nbconvert_exporter": "python",
   "pygments_lexer": "ipython3",
   "version": "3.9.7"
  }
 },
 "nbformat": 4,
 "nbformat_minor": 5
}
